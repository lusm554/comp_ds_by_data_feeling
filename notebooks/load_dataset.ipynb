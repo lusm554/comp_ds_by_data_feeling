{
 "cells": [
  {
   "cell_type": "code",
   "execution_count": 16,
   "id": "07acb3e0-c196-4b72-bdb5-ed257f16e4d2",
   "metadata": {},
   "outputs": [
    {
     "name": "stdout",
     "output_type": "stream",
     "text": [
      "128K\tdata/car_test.csv\n",
      "192K\tdata/car_train.csv\n",
      "576K\tdata/driver_info.csv\n",
      "7.1M\tdata/fix_info.csv\n",
      "81M\tdata/rides_info.csv\n",
      "6.3M\tdata/test.csv\n"
     ]
    }
   ],
   "source": [
    "%%bash\n",
    "mkdir -p data\n",
    "wget -q 'https://raw.githubusercontent.com/a-milenkin/Competitive_Data_Science/main/data/car_train.csv' -O ./data/car_train.csv\n",
    "wget -q 'https://raw.githubusercontent.com/a-milenkin/Competitive_Data_Science/main/data/car_test.csv' -O ./data/car_test.csv\n",
    "wget -q 'https://drive.google.com/uc?id=1eqFIZCJTkXY-PsTeS-uz_DousIH3XQu-' -O ./data/rides_info.csv\n",
    "wget -q 'https://raw.githubusercontent.com/a-milenkin/Competitive_Data_Science/main/data/driver_info.csv' -O ./data/driver_info.csv\n",
    "wget -q 'https://raw.githubusercontent.com/a-milenkin/Competitive_Data_Science/main/data/fix_info.csv' -O ./data/fix_info.csv\n",
    "du -hs data/*"
   ]
  },
  {
   "cell_type": "code",
   "execution_count": null,
   "id": "eac971c3-5ac0-4ae5-91b4-3e52301d5283",
   "metadata": {},
   "outputs": [],
   "source": []
  },
  {
   "cell_type": "code",
   "execution_count": null,
   "id": "b9b89fae-700b-40e8-905a-a9e64a71ce64",
   "metadata": {},
   "outputs": [],
   "source": []
  },
  {
   "cell_type": "code",
   "execution_count": null,
   "id": "a61b0134-d4c6-4ca1-9b65-bfb6c9dd0a5a",
   "metadata": {},
   "outputs": [],
   "source": []
  }
 ],
 "metadata": {
  "kernelspec": {
   "display_name": "Python 3 (ipykernel)",
   "language": "python",
   "name": "python3"
  },
  "language_info": {
   "codemirror_mode": {
    "name": "ipython",
    "version": 3
   },
   "file_extension": ".py",
   "mimetype": "text/x-python",
   "name": "python",
   "nbconvert_exporter": "python",
   "pygments_lexer": "ipython3",
   "version": "3.11.10"
  }
 },
 "nbformat": 4,
 "nbformat_minor": 5
}
