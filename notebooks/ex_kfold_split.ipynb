{
 "cells": [
  {
   "cell_type": "code",
   "execution_count": 2,
   "id": "e85f8231-87f2-4b62-97e7-006af5f04248",
   "metadata": {},
   "outputs": [],
   "source": [
    "!pip install seaborn >> None"
   ]
  },
  {
   "cell_type": "code",
   "execution_count": 1,
   "id": "64362418-88ac-4d81-ab44-edbc6bd0483a",
   "metadata": {},
   "outputs": [
    {
     "data": {
      "text/html": [
       "<div>\n",
       "<style scoped>\n",
       "    .dataframe tbody tr th:only-of-type {\n",
       "        vertical-align: middle;\n",
       "    }\n",
       "\n",
       "    .dataframe tbody tr th {\n",
       "        vertical-align: top;\n",
       "    }\n",
       "\n",
       "    .dataframe thead th {\n",
       "        text-align: right;\n",
       "    }\n",
       "</style>\n",
       "<table border=\"1\" class=\"dataframe\">\n",
       "  <thead>\n",
       "    <tr style=\"text-align: right;\">\n",
       "      <th></th>\n",
       "      <th>car_id</th>\n",
       "      <th>target_reg</th>\n",
       "      <th>num_fold</th>\n",
       "    </tr>\n",
       "  </thead>\n",
       "  <tbody>\n",
       "    <tr>\n",
       "      <th>0</th>\n",
       "      <td>y13744087j</td>\n",
       "      <td>9492.96</td>\n",
       "      <td>NaN</td>\n",
       "    </tr>\n",
       "    <tr>\n",
       "      <th>1</th>\n",
       "      <td>O41613818T</td>\n",
       "      <td>2656.23</td>\n",
       "      <td>NaN</td>\n",
       "    </tr>\n",
       "    <tr>\n",
       "      <th>2</th>\n",
       "      <td>d-2109686j</td>\n",
       "      <td>1526.11</td>\n",
       "      <td>NaN</td>\n",
       "    </tr>\n",
       "    <tr>\n",
       "      <th>3</th>\n",
       "      <td>u29695600e</td>\n",
       "      <td>1338.00</td>\n",
       "      <td>NaN</td>\n",
       "    </tr>\n",
       "    <tr>\n",
       "      <th>4</th>\n",
       "      <td>N-8915870N</td>\n",
       "      <td>825.72</td>\n",
       "      <td>NaN</td>\n",
       "    </tr>\n",
       "    <tr>\n",
       "      <th>...</th>\n",
       "      <td>...</td>\n",
       "      <td>...</td>\n",
       "      <td>...</td>\n",
       "    </tr>\n",
       "    <tr>\n",
       "      <th>2332</th>\n",
       "      <td>j21246192N</td>\n",
       "      <td>547.30</td>\n",
       "      <td>NaN</td>\n",
       "    </tr>\n",
       "    <tr>\n",
       "      <th>2333</th>\n",
       "      <td>h-1554287F</td>\n",
       "      <td>26414.19</td>\n",
       "      <td>NaN</td>\n",
       "    </tr>\n",
       "    <tr>\n",
       "      <th>2334</th>\n",
       "      <td>A15262612g</td>\n",
       "      <td>2677.95</td>\n",
       "      <td>NaN</td>\n",
       "    </tr>\n",
       "    <tr>\n",
       "      <th>2335</th>\n",
       "      <td>W-2514493U</td>\n",
       "      <td>2213.63</td>\n",
       "      <td>NaN</td>\n",
       "    </tr>\n",
       "    <tr>\n",
       "      <th>2336</th>\n",
       "      <td>z-1337463D</td>\n",
       "      <td>2943.33</td>\n",
       "      <td>NaN</td>\n",
       "    </tr>\n",
       "  </tbody>\n",
       "</table>\n",
       "<p>2337 rows × 3 columns</p>\n",
       "</div>"
      ],
      "text/plain": [
       "          car_id  target_reg  num_fold\n",
       "0     y13744087j     9492.96       NaN\n",
       "1     O41613818T     2656.23       NaN\n",
       "2     d-2109686j     1526.11       NaN\n",
       "3     u29695600e     1338.00       NaN\n",
       "4     N-8915870N      825.72       NaN\n",
       "...          ...         ...       ...\n",
       "2332  j21246192N      547.30       NaN\n",
       "2333  h-1554287F    26414.19       NaN\n",
       "2334  A15262612g     2677.95       NaN\n",
       "2335  W-2514493U     2213.63       NaN\n",
       "2336  z-1337463D     2943.33       NaN\n",
       "\n",
       "[2337 rows x 3 columns]"
      ]
     },
     "execution_count": 1,
     "metadata": {},
     "output_type": "execute_result"
    }
   ],
   "source": [
    "import pandas as pd\n",
    "df = pd.read_csv('https://stepik.org/media/attachments/lesson/779913/stratified_valid.csv')\n",
    "df"
   ]
  },
  {
   "cell_type": "code",
   "execution_count": 13,
   "id": "00ec6a12-5850-413a-9549-040942248b9c",
   "metadata": {},
   "outputs": [
    {
     "data": {
      "text/plain": [
       "num_fold\n",
       "9    247\n",
       "3    245\n",
       "0    244\n",
       "1    235\n",
       "6    234\n",
       "8    231\n",
       "4    229\n",
       "7    228\n",
       "5    223\n",
       "2    221\n",
       "Name: count, dtype: int64"
      ]
     },
     "execution_count": 13,
     "metadata": {},
     "output_type": "execute_result"
    }
   ],
   "source": [
    "import random\n",
    "df['num_fold'] = df.num_fold.apply(lambda _: random.randint(0, 9))\n",
    "df.num_fold.value_counts()"
   ]
  },
  {
   "cell_type": "code",
   "execution_count": 53,
   "id": "06a149ea-5ecf-4025-9cb1-fde891ad2bd0",
   "metadata": {},
   "outputs": [
    {
     "data": {
      "text/plain": [
       "10"
      ]
     },
     "execution_count": 53,
     "metadata": {},
     "output_type": "execute_result"
    }
   ],
   "source": [
    "from sklearn.model_selection import StratifiedKFold, KFold\n",
    "X,y = df.drop(columns='target_reg'), df.target_reg\n",
    "skf = KFold(n_splits=10, random_state=42, shuffle=True)\n",
    "skf.get_n_splits(X, y)"
   ]
  },
  {
   "cell_type": "code",
   "execution_count": 58,
   "id": "43d7f587-1f75-4449-a3b3-7f6d406e5d1f",
   "metadata": {},
   "outputs": [
    {
     "name": "stdout",
     "output_type": "stream",
     "text": [
      "4295.688205128205\n",
      "3676.7664957264956\n",
      "3432.8120085470086\n",
      "4812.280213675214\n",
      "3655.9708547008545\n",
      "3334.5644444444447\n",
      "3851.6271794871795\n",
      "3805.529570815451\n",
      "3660.0621459227473\n",
      "3719.4724034334768\n"
     ]
    }
   ],
   "source": [
    "for train_index, test_index in skf.split(X, y):\n",
    "    print(y[test_index].mean())"
   ]
  },
  {
   "cell_type": "markdown",
   "id": "47dc48f5-6d1e-4d9c-922b-9a088fb61efd",
   "metadata": {},
   "source": [
    "# Test"
   ]
  },
  {
   "cell_type": "code",
   "execution_count": 14,
   "id": "c55038b2-6ff7-4a4e-8235-7271deaf442d",
   "metadata": {},
   "outputs": [
    {
     "data": {
      "image/png": "[encoded data removed]",
      "text/plain": [
       "<Figure size 1011.11x500 with 1 Axes>"
      ]
     },
     "metadata": {},
     "output_type": "display_data"
    }
   ],
   "source": [
    "import seaborn as sns\n",
    "\n",
    "tmp = df.groupby('num_fold', as_index=False)['target_reg'].agg('mean')\n",
    "sns.catplot(data = tmp, x = 'num_fold', y = 'target_reg', aspect=2, kind=\"bar\");"
   ]
  },
  {
   "cell_type": "code",
   "execution_count": 16,
   "id": "905e2974-fe7b-4853-a7bb-43c7a00b26df",
   "metadata": {},
   "outputs": [
    {
     "data": {
      "text/plain": [
       "286.72721085796417"
      ]
     },
     "execution_count": 16,
     "metadata": {},
     "output_type": "execute_result"
    }
   ],
   "source": [
    "df.groupby('num_fold', as_index=False)['target_reg'].agg('mean')['target_reg'].std()"
   ]
  },
  {
   "cell_type": "markdown",
   "id": "1b7b3a23-ce61-4e67-98bf-3f963ae7e4c2",
   "metadata": {},
   "source": [
    "# multi-label stratified"
   ]
  },
  {
   "cell_type": "code",
   "execution_count": 89,
   "id": "8a2d0970-d0f6-4b53-9e77-75e945bab73a",
   "metadata": {},
   "outputs": [
    {
     "data": {
      "text/html": [
       "<div>\n",
       "<style scoped>\n",
       "    .dataframe tbody tr th:only-of-type {\n",
       "        vertical-align: middle;\n",
       "    }\n",
       "\n",
       "    .dataframe tbody tr th {\n",
       "        vertical-align: top;\n",
       "    }\n",
       "\n",
       "    .dataframe thead th {\n",
       "        text-align: right;\n",
       "    }\n",
       "</style>\n",
       "<table border=\"1\" class=\"dataframe\">\n",
       "  <thead>\n",
       "    <tr style=\"text-align: right;\">\n",
       "      <th></th>\n",
       "      <th>ID</th>\n",
       "      <th>Computer Science</th>\n",
       "      <th>Physics</th>\n",
       "      <th>Mathematics</th>\n",
       "      <th>Statistics</th>\n",
       "      <th>Quantitative Biology</th>\n",
       "      <th>Quantitative Finance</th>\n",
       "      <th>Chemistry</th>\n",
       "      <th>Astrology</th>\n",
       "      <th>Spaceology</th>\n",
       "      <th>Life Science</th>\n",
       "      <th>Earth Science</th>\n",
       "      <th>Data Science</th>\n",
       "    </tr>\n",
       "  </thead>\n",
       "  <tbody>\n",
       "    <tr>\n",
       "      <th>0</th>\n",
       "      <td>9431</td>\n",
       "      <td>1</td>\n",
       "      <td>0</td>\n",
       "      <td>1</td>\n",
       "      <td>1</td>\n",
       "      <td>0</td>\n",
       "      <td>0</td>\n",
       "      <td>0</td>\n",
       "      <td>0</td>\n",
       "      <td>0</td>\n",
       "      <td>0</td>\n",
       "      <td>0</td>\n",
       "      <td>0</td>\n",
       "    </tr>\n",
       "    <tr>\n",
       "      <th>1</th>\n",
       "      <td>7960</td>\n",
       "      <td>1</td>\n",
       "      <td>1</td>\n",
       "      <td>0</td>\n",
       "      <td>1</td>\n",
       "      <td>0</td>\n",
       "      <td>0</td>\n",
       "      <td>0</td>\n",
       "      <td>0</td>\n",
       "      <td>0</td>\n",
       "      <td>0</td>\n",
       "      <td>0</td>\n",
       "      <td>1</td>\n",
       "    </tr>\n",
       "    <tr>\n",
       "      <th>2</th>\n",
       "      <td>8578</td>\n",
       "      <td>1</td>\n",
       "      <td>1</td>\n",
       "      <td>0</td>\n",
       "      <td>1</td>\n",
       "      <td>0</td>\n",
       "      <td>0</td>\n",
       "      <td>0</td>\n",
       "      <td>0</td>\n",
       "      <td>0</td>\n",
       "      <td>1</td>\n",
       "      <td>0</td>\n",
       "      <td>0</td>\n",
       "    </tr>\n",
       "    <tr>\n",
       "      <th>3</th>\n",
       "      <td>1651</td>\n",
       "      <td>1</td>\n",
       "      <td>0</td>\n",
       "      <td>1</td>\n",
       "      <td>1</td>\n",
       "      <td>0</td>\n",
       "      <td>0</td>\n",
       "      <td>0</td>\n",
       "      <td>0</td>\n",
       "      <td>0</td>\n",
       "      <td>0</td>\n",
       "      <td>0</td>\n",
       "      <td>0</td>\n",
       "    </tr>\n",
       "    <tr>\n",
       "      <th>4</th>\n",
       "      <td>4011</td>\n",
       "      <td>1</td>\n",
       "      <td>0</td>\n",
       "      <td>1</td>\n",
       "      <td>1</td>\n",
       "      <td>0</td>\n",
       "      <td>0</td>\n",
       "      <td>0</td>\n",
       "      <td>0</td>\n",
       "      <td>0</td>\n",
       "      <td>0</td>\n",
       "      <td>0</td>\n",
       "      <td>0</td>\n",
       "    </tr>\n",
       "    <tr>\n",
       "      <th>...</th>\n",
       "      <td>...</td>\n",
       "      <td>...</td>\n",
       "      <td>...</td>\n",
       "      <td>...</td>\n",
       "      <td>...</td>\n",
       "      <td>...</td>\n",
       "      <td>...</td>\n",
       "      <td>...</td>\n",
       "      <td>...</td>\n",
       "      <td>...</td>\n",
       "      <td>...</td>\n",
       "      <td>...</td>\n",
       "      <td>...</td>\n",
       "    </tr>\n",
       "    <tr>\n",
       "      <th>9995</th>\n",
       "      <td>3819</td>\n",
       "      <td>1</td>\n",
       "      <td>0</td>\n",
       "      <td>0</td>\n",
       "      <td>0</td>\n",
       "      <td>0</td>\n",
       "      <td>0</td>\n",
       "      <td>0</td>\n",
       "      <td>0</td>\n",
       "      <td>0</td>\n",
       "      <td>0</td>\n",
       "      <td>0</td>\n",
       "      <td>0</td>\n",
       "    </tr>\n",
       "    <tr>\n",
       "      <th>9996</th>\n",
       "      <td>3817</td>\n",
       "      <td>0</td>\n",
       "      <td>1</td>\n",
       "      <td>0</td>\n",
       "      <td>0</td>\n",
       "      <td>0</td>\n",
       "      <td>0</td>\n",
       "      <td>1</td>\n",
       "      <td>0</td>\n",
       "      <td>0</td>\n",
       "      <td>0</td>\n",
       "      <td>0</td>\n",
       "      <td>1</td>\n",
       "    </tr>\n",
       "    <tr>\n",
       "      <th>9997</th>\n",
       "      <td>3816</td>\n",
       "      <td>1</td>\n",
       "      <td>0</td>\n",
       "      <td>0</td>\n",
       "      <td>0</td>\n",
       "      <td>0</td>\n",
       "      <td>0</td>\n",
       "      <td>0</td>\n",
       "      <td>0</td>\n",
       "      <td>0</td>\n",
       "      <td>1</td>\n",
       "      <td>0</td>\n",
       "      <td>0</td>\n",
       "    </tr>\n",
       "    <tr>\n",
       "      <th>9998</th>\n",
       "      <td>3814</td>\n",
       "      <td>0</td>\n",
       "      <td>1</td>\n",
       "      <td>0</td>\n",
       "      <td>0</td>\n",
       "      <td>0</td>\n",
       "      <td>0</td>\n",
       "      <td>0</td>\n",
       "      <td>0</td>\n",
       "      <td>0</td>\n",
       "      <td>1</td>\n",
       "      <td>0</td>\n",
       "      <td>1</td>\n",
       "    </tr>\n",
       "    <tr>\n",
       "      <th>9999</th>\n",
       "      <td>10000</td>\n",
       "      <td>0</td>\n",
       "      <td>0</td>\n",
       "      <td>1</td>\n",
       "      <td>0</td>\n",
       "      <td>0</td>\n",
       "      <td>0</td>\n",
       "      <td>0</td>\n",
       "      <td>0</td>\n",
       "      <td>0</td>\n",
       "      <td>0</td>\n",
       "      <td>0</td>\n",
       "      <td>1</td>\n",
       "    </tr>\n",
       "  </tbody>\n",
       "</table>\n",
       "<p>10000 rows × 13 columns</p>\n",
       "</div>"
      ],
      "text/plain": [
       "         ID  Computer Science  Physics  Mathematics  Statistics  \\\n",
       "0      9431                 1        0            1           1   \n",
       "1      7960                 1        1            0           1   \n",
       "2      8578                 1        1            0           1   \n",
       "3      1651                 1        0            1           1   \n",
       "4      4011                 1        0            1           1   \n",
       "...     ...               ...      ...          ...         ...   \n",
       "9995   3819                 1        0            0           0   \n",
       "9996   3817                 0        1            0           0   \n",
       "9997   3816                 1        0            0           0   \n",
       "9998   3814                 0        1            0           0   \n",
       "9999  10000                 0        0            1           0   \n",
       "\n",
       "      Quantitative Biology  Quantitative Finance  Chemistry  Astrology  \\\n",
       "0                        0                     0          0          0   \n",
       "1                        0                     0          0          0   \n",
       "2                        0                     0          0          0   \n",
       "3                        0                     0          0          0   \n",
       "4                        0                     0          0          0   \n",
       "...                    ...                   ...        ...        ...   \n",
       "9995                     0                     0          0          0   \n",
       "9996                     0                     0          1          0   \n",
       "9997                     0                     0          0          0   \n",
       "9998                     0                     0          0          0   \n",
       "9999                     0                     0          0          0   \n",
       "\n",
       "      Spaceology  Life Science  Earth Science  Data Science  \n",
       "0              0             0              0             0  \n",
       "1              0             0              0             1  \n",
       "2              0             1              0             0  \n",
       "3              0             0              0             0  \n",
       "4              0             0              0             0  \n",
       "...          ...           ...            ...           ...  \n",
       "9995           0             0              0             0  \n",
       "9996           0             0              0             1  \n",
       "9997           0             1              0             0  \n",
       "9998           0             1              0             1  \n",
       "9999           0             0              0             1  \n",
       "\n",
       "[10000 rows x 13 columns]"
      ]
     },
     "execution_count": 89,
     "metadata": {},
     "output_type": "execute_result"
    }
   ],
   "source": [
    "df = pd.read_csv('https://stepik.org/media/attachments/lesson/779913/multi_label.csv')\n",
    "df"
   ]
  },
  {
   "cell_type": "code",
   "execution_count": 90,
   "id": "293dc737-8e6a-40e3-a80a-ff50c10f003a",
   "metadata": {},
   "outputs": [],
   "source": [
    "df['target'] = df.drop(columns='ID').sum(axis=1)"
   ]
  },
  {
   "cell_type": "code",
   "execution_count": 91,
   "id": "2b80b3f6-461e-4fc2-b5dd-cf16339b0eb0",
   "metadata": {},
   "outputs": [
    {
     "data": {
      "text/plain": [
       "5"
      ]
     },
     "execution_count": 91,
     "metadata": {},
     "output_type": "execute_result"
    }
   ],
   "source": [
    "from sklearn.model_selection import StratifiedKFold, KFold\n",
    "X, y = df.drop(columns='target'), df.target\n",
    "skf = StratifiedKFold(n_splits=5)\n",
    "skf.get_n_splits(X, y)"
   ]
  },
  {
   "cell_type": "code",
   "execution_count": 92,
   "id": "fd40c394-19d0-4896-8241-567da0acc907",
   "metadata": {},
   "outputs": [
    {
     "name": "stderr",
     "output_type": "stream",
     "text": [
      "/opt/conda/lib/python3.11/site-packages/sklearn/model_selection/_split.py:776: UserWarning: The least populated class in y has only 2 members, which is less than n_splits=5.\n",
      "  warnings.warn(\n"
     ]
    }
   ],
   "source": [
    "for fold_num, (train_index, test_index) in enumerate(skf.split(X, y)):\n",
    "    df.loc[test_index, 'kfold'] = fold_num"
   ]
  },
  {
   "cell_type": "code",
   "execution_count": 93,
   "id": "67188f75-86d3-4c35-a7e3-52d2fa3f951a",
   "metadata": {},
   "outputs": [
    {
     "data": {
      "text/plain": [
       "kfold\n",
       "0.0    2000\n",
       "1.0    2000\n",
       "2.0    2000\n",
       "3.0    2000\n",
       "4.0    2000\n",
       "Name: count, dtype: int64"
      ]
     },
     "execution_count": 93,
     "metadata": {},
     "output_type": "execute_result"
    }
   ],
   "source": [
    "df.kfold.value_counts()"
   ]
  },
  {
   "cell_type": "markdown",
   "id": "690863ad-369f-47c0-8c5c-4bbc2fe60ccb",
   "metadata": {},
   "source": [
    "# Test"
   ]
  },
  {
   "cell_type": "code",
   "execution_count": 94,
   "id": "c9956a71-5191-4cdd-927e-e42e885d68c2",
   "metadata": {},
   "outputs": [
    {
     "name": "stdout",
     "output_type": "stream",
     "text": [
      "112.03059200249142\n"
     ]
    }
   ],
   "source": [
    "targets = ['Computer Science', 'Physics', 'Mathematics', 'Statistics',\n",
    "           'Quantitative Biology', 'Quantitative Finance', 'Chemistry',\n",
    "           'Astrology', 'Spaceology', 'Life Science', 'Earth Science', 'Data Science']\n",
    "tmp = df.groupby(['kfold'], as_index=False).sum()  \n",
    "tmp_melt = tmp.melt(id_vars = 'kfold', value_vars = targets, value_name = 'count', var_name = 'class')\n",
    "print(tmp_melt.groupby(['class'], as_index=False).std()['count'].mean())"
   ]
  },
  {
   "cell_type": "code",
   "execution_count": null,
   "id": "95f06e1b-85fd-44af-a802-69a2ce4990d7",
   "metadata": {},
   "outputs": [],
   "source": []
  },
  {
   "cell_type": "code",
   "execution_count": null,
   "id": "6876a640-3222-4c0a-8ddd-eba4fb68b129",
   "metadata": {},
   "outputs": [],
   "source": []
  },
  {
   "cell_type": "code",
   "execution_count": null,
   "id": "6da2d0eb-1262-46d8-8673-c11dd3d5534e",
   "metadata": {},
   "outputs": [],
   "source": []
  },
  {
   "cell_type": "code",
   "execution_count": null,
   "id": "628840cb-9ad4-4467-8917-cd8d838e2233",
   "metadata": {},
   "outputs": [],
   "source": []
  }
 ],
 "metadata": {
  "kernelspec": {
   "display_name": "Python 3 (ipykernel)",
   "language": "python",
   "name": "python3"
  },
  "language_info": {
   "codemirror_mode": {
    "name": "ipython",
    "version": 3
   },
   "file_extension": ".py",
   "mimetype": "text/x-python",
   "name": "python",
   "nbconvert_exporter": "python",
   "pygments_lexer": "ipython3",
   "version": "3.11.10"
  }
 },
 "nbformat": 4,
 "nbformat_minor": 5
}
